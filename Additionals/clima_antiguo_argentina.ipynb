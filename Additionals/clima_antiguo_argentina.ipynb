{
 "cells": [
  {
   "cell_type": "code",
   "execution_count": null,
   "metadata": {},
   "outputs": [],
   "source": [
    "\n",
    "df_aux = pd.read_csv(\"Bases/Climatologicas_Argentina/%s.txt\"%(\"datos_estaciones\"),header=1, encoding='latin1')\n",
    "for s in range(10):\n",
    "    df_aux[df_aux.columns[0]]=df_aux[df_aux.columns[0]].str.replace(\"   \",\"  \")\n",
    "df_estaciones=df_aux[df_aux.columns[0]].str.split(\"  \",expand=True)[[0,1]]\n",
    "\n",
    "df_estaciones.columns=[\"NOMBRE\",\"provincia\"]\n",
    "\n",
    "df_clima=pd.read_excel(\"Bases\\\\Climatologicas_Argentina\\\\Clima_Final.xlsx\")\n",
    "\n",
    "df_clima[\"NOMBRE\"]=df_clima[\"NOMBRE\"].str.normalize('NFKD').str.encode('ascii', errors='ignore').str.decode('utf-8').str.replace(\"*\",\"\")\n",
    "\n",
    "df_clima2=pd.merge(df_estaciones,df_clima,on=\"NOMBRE\",how=\"left\")\n",
    "\n",
    "df_clima2[\"Provincia\"]=df_clima2[\"Provincia\"].str.title()\n",
    "df_clima2[\"Provincia\"]=df_clima2[\"Provincia\"].str.replace(\"Tierra Del Fuego\",\"Tierra del Fuego\").str.replace(\"Santiago Del Estero\",\"Santiago del Estero\")\n",
    "df_clima2[\"Provincia\"]=df_clima2[\"Provincia\"].str.replace(\"Capital Federal\",\"Caba\")\n",
    "df_clima2[\"Provincia\"]=df_clima2[\"Provincia\"].apply(quitar_acentos_limpiar)\n",
    "df_clima2=df_clima2.loc[~df_clima2[\"FECHA\"].isnull()]\n",
    "df_clima2=df_clima2.rename(columns={'FECHA':'FECHA_NOTIFICACION'})\n",
    "df_clima2\n",
    "df_clima3=pd.DataFrame(pd.pivot_table(df_clima2,index=[\"Provincia\",'FECHA_NOTIFICACION'],values=[\"DD\",\"FF\",\"HUM\",\"PNM\",\"TEMP\"],aggfunc=\"mean\").to_records())\n",
    "\n",
    "\n",
    "df_f2[\"FECHA_NOTIFICACION\"]=df_f2[\"FECHA_NOTIFICACION\"].astype(str)\n",
    "df_f=pd.merge(df_f2,df_clima3,on=[\"Provincia\",\"FECHA_NOTIFICACION\"],how=\"left\")\n",
    "\n",
    "df_f=df_f.rename(columns={\"ID_PROV_INDEC_RESIDENCIA\":\"cod_prov\"})\n",
    "df_f[\"cod_prov\"]=df_f[\"cod_prov\"].fillna(0)\n",
    "\n",
    "\n",
    "df_f[\"cod_prov\"]=df_f[\"cod_prov\"].astype(int)"
   ]
  }
 ],
 "metadata": {
  "language_info": {
   "name": "python"
  }
 },
 "nbformat": 4,
 "nbformat_minor": 2
}
